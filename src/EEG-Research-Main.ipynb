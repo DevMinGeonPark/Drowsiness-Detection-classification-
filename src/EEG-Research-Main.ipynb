{
 "cells": [
  {
   "cell_type": "markdown",
   "metadata": {},
   "source": [
    "## EEG Research Code \n",
    "> create by MinGeon Park"
   ]
  },
  {
   "cell_type": "markdown",
   "metadata": {},
   "source": [
    "### Default Setup"
   ]
  },
  {
   "cell_type": "markdown",
   "metadata": {},
   "source": [
    "#### Set Default Path"
   ]
  },
  {
   "cell_type": "code",
   "execution_count": 22,
   "metadata": {},
   "outputs": [
    {
     "name": "stdout",
     "output_type": "stream",
     "text": [
      "/home/devmin/Desktop/source/jupyter/research-EEG\n",
      "None\n"
     ]
    }
   ],
   "source": [
    "#default_path setting\n",
    "import os\n",
    "default_path = '/home/devmin/Desktop/source/jupyter/research-EEG'\n",
    "print(default_path)\n",
    "print(os.chdir(default_path))\n",
    "del default_path\n",
    "#loadmat & import 문\n",
    "from scipy import io\n",
    "# import matplotlib as mpl\n",
    "# import matplotlib.pylab as plt\n",
    "import numpy as np"
   ]
  },
  {
   "cell_type": "markdown",
   "metadata": {},
   "source": [
    "#### data set check"
   ]
  },
  {
   "cell_type": "code",
   "execution_count": 42,
   "metadata": {},
   "outputs": [
    {
     "name": "stdout",
     "output_type": "stream",
     "text": [
      "sb_1_eeg\n",
      "512\n",
      "sb_2_eeg\n",
      "512\n",
      "sb_3_eeg\n",
      "512\n",
      "sb_4_eeg\n",
      "512\n",
      "sb_5_eeg\n",
      "512\n",
      "sb_6_eeg\n",
      "512\n",
      "sb_7_eeg\n",
      "512\n",
      "sb_8_eeg\n",
      "512\n",
      "sb_9_eeg\n",
      "512\n",
      "sb_10_eeg\n",
      "512\n"
     ]
    }
   ],
   "source": [
    "# data = io.loadmat('./data/EEG/sb/sb1_eeg')\n",
    "# data = io.loadmat('./data/EEG/sb/sb2_eeg')\n",
    "# data = io.loadmat('./data/EEG/sb/sb3_eeg')\n",
    "# data = io.loadmat('./data/EEG/sb/sb5_eeg')\n",
    "# data2 = io.loadmat('./data/EEG/sb/sb5_eeg')\n",
    "# data3 = io.loadmat('./data/EEG/sb/sb6_eeg')\n",
    "# print(data['eeg'][0][0][-1])\n",
    "# print(data2['eeg'][0][0][-1])\n",
    "# print(data3['eeg'][0][0][-1])\n",
    "# # eeg_data = data[0][0][1]\n",
    "\n",
    "for num in range(1,11):\n",
    "    data = io.loadmat('./data/EEG/sb/sb'+str(num)+\"_eeg\")\n",
    "    print(\"sb_\"+str(num)+\"_eeg\")\n",
    "    print(data['eeg'][0][0][-1][0][0])"
   ]
  },
  {
   "cell_type": "markdown",
   "metadata": {},
   "source": [
    "## Data Reconstruction"
   ]
  },
  {
   "cell_type": "code",
   "execution_count": 49,
   "metadata": {},
   "outputs": [
    {
     "name": "stdout",
     "output_type": "stream",
     "text": [
      "--sb_ 1 _eeg\n",
      "|  \u001b[31m (30, 64, 30720) \u001b[0m|\n",
      "--sb_ 2 _eeg\n",
      "|  \u001b[31m (30, 64, 30720) \u001b[0m|\n",
      "--sb_ 3 _eeg\n",
      "|  \u001b[31m (30, 64, 30720) \u001b[0m|\n",
      "--sb_ 4 _eeg\n",
      "|  \u001b[31m (30, 64, 30720) \u001b[0m|\n",
      "--sb_ 5 _eeg\n",
      "|  \u001b[31m (31, 64, 30720) \u001b[0m|\n",
      "--sb_ 6 _eeg\n",
      "|  \u001b[31m (30, 64, 30720) \u001b[0m|\n",
      "--sb_ 7 _eeg\n",
      "|  \u001b[31m (30, 64, 30720) \u001b[0m|\n",
      "--sb_ 8 _eeg\n",
      "|  \u001b[31m (33, 64, 30720) \u001b[0m|\n",
      "--sb_ 9 _eeg\n",
      "|  \u001b[31m (30, 64, 30720) \u001b[0m|\n",
      "--sb_ 10 _eeg\n",
      "|  \u001b[31m (30, 64, 30720) \u001b[0m|\n",
      "--sb_ 11 _eeg\n",
      "|  \u001b[31m (30, 64, 30720) \u001b[0m|\n"
     ]
    }
   ],
   "source": [
    "\n",
    "'''\n",
    "    @title\n",
    "        sb data reconstrucion\n",
    "    @memo\n",
    "        진행사항 : 데이터 재구성으로 12:60:64:30720으로 구성하여 데이터를 만들기 위해 11개의 mat 데이터를 부르는 반복문 개발 중\n",
    "'''\n",
    "restructured_data = np.array([]);\n",
    "# restructured_data = ProcessedData = np.zeros([12,60,64,30720])\n",
    "for mat_num in range(0,11):\n",
    "    #load data\n",
    "    '''sb 데이터만 처리해보기.'''\n",
    "    data = io.loadmat('./data/EEG/sb/'+'sb'+str(mat_num+1)+'_eeg')['eeg']\n",
    "\n",
    "    #------------Data extract-----------------------------#\n",
    "\n",
    "    #event local is 1536\n",
    "    eeg_event = data[0][0][0][0]\n",
    "    #shape : (68, 923136)\n",
    "    eeg_data = data[0][0][1]\n",
    "\n",
    "    print(\"--sb_\",mat_num+1,\"_eeg\")\n",
    "\n",
    "    #shpae (68, 923136) -> (64, 921600)\n",
    "    #eeg.event에서 시작되는 부분을 찾아 eeg에서 분리하여 인덱스에 입력\n",
    "    EEG = eeg_data[:64, np.where(eeg_event == 1)[0][0]:]\n",
    "    SR = data[0][0][-1][0][0]\n",
    "    #측정 시간을 60분으로 고정하여 나누면 총 30개로 분할 가능\n",
    "    MeasurementTime = int((len(EEG[0])/SR)/60)\n",
    "    # print(\"EEG Shape:\",EEG.shape)\n",
    "\n",
    "    #-----------------------------------------------------#\n",
    "\n",
    "\n",
    "    #------------Data Reconstruction----------------------#\n",
    "    # trials = int(MeasurementTime/60*SR)\n",
    "    ProcessedData = np.zeros([MeasurementTime,64,30720])\n",
    "    for temp_trialNum in range(0,MeasurementTime):\n",
    "        # print(\"log:\",\"Reconstruction in progress...\")\n",
    "        tp_startPt = temp_trialNum*(SR*60)\n",
    "        tp_endPt = (SR*60) + temp_trialNum*(SR*60)\n",
    "        ProcessedData[temp_trialNum, :, :] = EEG[:, tp_startPt:tp_endPt]\n",
    "        # print(\"log:\",temp_trialNum+1,\"is \"+\"reconstruction finished\")\n",
    "\n",
    "    #-----------------------------------------------------#\n",
    "\n",
    "    # print(\"|\"+\"-\"*60+\"|\")\n",
    "    # print(\"|  \"+\"\\033[31m\"+\"Reconstruction is finished. function -> return to array   \"+\"\\033[0m\"+\"|\")\n",
    "    # print(\"|\"+\"-\"*60+\"|\")\n",
    "    # restructured_data[mat_num,:,:,:]= ProcessedData[:,:,:]\n",
    "    # if mat_num == 1:\n",
    "    #     break;\n",
    "    print(\"|  \"+\"\\033[31m\",ProcessedData.shape,\"\\033[0m\"+\"|\")\n",
    "\n"
   ]
  },
  {
   "cell_type": "code",
   "execution_count": 51,
   "metadata": {},
   "outputs": [
    {
     "name": "stdout",
     "output_type": "stream",
     "text": [
      "--sg_ 1 _eeg\n",
      "|  \u001b[31m (30, 64, 30720) \u001b[0m|\n",
      "--sg_ 2 _eeg\n",
      "|  \u001b[31m (30, 64, 30720) \u001b[0m|\n",
      "--sg_ 3 _eeg\n",
      "|  \u001b[31m (30, 64, 30720) \u001b[0m|\n",
      "--sg_ 4 _eeg\n",
      "|  \u001b[31m (53, 64, 30720) \u001b[0m|\n",
      "--sg_ 5 _eeg\n",
      "|  \u001b[31m (51, 64, 30720) \u001b[0m|\n",
      "--sg_ 6 _eeg\n",
      "|  \u001b[31m (30, 64, 30720) \u001b[0m|\n",
      "--sg_ 7 _eeg\n",
      "|  \u001b[31m (40, 64, 30720) \u001b[0m|\n",
      "--sg_ 8 _eeg\n",
      "|  \u001b[31m (44, 64, 30720) \u001b[0m|\n",
      "--sg_ 9 _eeg\n",
      "|  \u001b[31m (35, 64, 30720) \u001b[0m|\n",
      "--sg_ 10 _eeg\n",
      "|  \u001b[31m (36, 64, 30720) \u001b[0m|\n",
      "--sg_ 11 _eeg\n",
      "|  \u001b[31m (23, 64, 30720) \u001b[0m|\n"
     ]
    }
   ],
   "source": [
    "\n",
    "'''\n",
    "    @title\n",
    "        sg reconstrtion\n",
    "    @memo\n",
    "        진행사항 : 데이터 재구성으로 12:60:64:30720으로 구성하여 데이터를 만들기 위해 11개의 mat 데이터를 부르는 반복문 개발 중\n",
    "'''\n",
    "restructured_data = np.array([]);\n",
    "# restructured_data = ProcessedData = np.zeros([12,60,64,30720])\n",
    "for mat_num in range(0,11):\n",
    "    #load data\n",
    "    '''sb 데이터만 처리해보기.'''\n",
    "    data = io.loadmat('./data/EEG/sg/'+'sg'+str(mat_num+1)+'_eeg')['eeg']\n",
    "\n",
    "    #------------Data extract-----------------------------#\n",
    "\n",
    "    #event local is 1536\n",
    "    eeg_event = data[0][0][0][0]\n",
    "    #shape : (68, 923136)\n",
    "    eeg_data = data[0][0][1]\n",
    "\n",
    "    print(\"--sg_\",mat_num+1,\"_eeg\")\n",
    "\n",
    "    #shpae (68, 923136) -> (64, 921600)\n",
    "    #eeg.event에서 시작되는 부분을 찾아 eeg에서 분리하여 인덱스에 입력\n",
    "    EEG = eeg_data[:64, np.where(eeg_event == 1)[0][0]:]\n",
    "    SR = data[0][0][-1][0][0]\n",
    "    #측정 시간을 60분으로 고정하여 나누면 총 30개로 분할 가능\n",
    "    MeasurementTime = int((len(EEG[0])/SR)/60)\n",
    "    # print(\"EEG Shape:\",EEG.shape)\n",
    "\n",
    "    #-----------------------------------------------------#\n",
    "\n",
    "\n",
    "    #------------Data Reconstruction----------------------#\n",
    "    # trials = int(MeasurementTime/60*SR)\n",
    "    ProcessedData = np.zeros([MeasurementTime,64,30720])\n",
    "    for temp_trialNum in range(0,MeasurementTime):\n",
    "        # print(\"log:\",\"Reconstruction in progress...\")\n",
    "        tp_startPt = temp_trialNum*(SR*60)\n",
    "        tp_endPt = (SR*60) + temp_trialNum*(SR*60)\n",
    "        ProcessedData[temp_trialNum, :, :] = EEG[:, tp_startPt:tp_endPt]\n",
    "        # print(\"log:\",temp_trialNum+1,\"is \"+\"reconstruction finished\")\n",
    "\n",
    "    #-----------------------------------------------------#\n",
    "\n",
    "    # print(\"|\"+\"-\"*60+\"|\")\n",
    "    # print(\"|  \"+\"\\033[31m\"+\"Reconstruction is finished. function -> return to array   \"+\"\\033[0m\"+\"|\")\n",
    "    # print(\"|\"+\"-\"*60+\"|\")\n",
    "    # restructured_data[mat_num,:,:,:]= ProcessedData[:,:,:]\n",
    "    # if mat_num == 1:\n",
    "    #     break;\n",
    "    print(\"|  \"+\"\\033[31m\",ProcessedData.shape,\"\\033[0m\"+\"|\")\n",
    "\n"
   ]
  }
 ],
 "metadata": {
  "interpreter": {
   "hash": "5b9debec27d59bb0b3e8618ed4d280d94af2b4287e391d0f0ad006d7d41cfb7e"
  },
  "kernelspec": {
   "display_name": "Python 3.9.12 ('EEG')",
   "language": "python",
   "name": "python3"
  },
  "language_info": {
   "codemirror_mode": {
    "name": "ipython",
    "version": 3
   },
   "file_extension": ".py",
   "mimetype": "text/x-python",
   "name": "python",
   "nbconvert_exporter": "python",
   "pygments_lexer": "ipython3",
   "version": "3.9.12"
  },
  "orig_nbformat": 4
 },
 "nbformat": 4,
 "nbformat_minor": 2
}
