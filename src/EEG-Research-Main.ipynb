{
 "cells": [
  {
   "cell_type": "markdown",
   "metadata": {},
   "source": [
    "### EEG Research Code \n",
    "> create by MinGeon Park"
   ]
  },
  {
   "cell_type": "markdown",
   "metadata": {},
   "source": [
    "#### Set Default Path"
   ]
  },
  {
   "cell_type": "code",
   "execution_count": 1,
   "metadata": {},
   "outputs": [
    {
     "name": "stdout",
     "output_type": "stream",
     "text": [
      "/home/devmin/Desktop/source/jupyter/research-EEG\n",
      "None\n"
     ]
    }
   ],
   "source": [
    "#default_path setting\n",
    "import os\n",
    "default_path = '/home/devmin/Desktop/source/jupyter/research-EEG'\n",
    "print(default_path)\n",
    "print(os.chdir(default_path))\n",
    "del default_path"
   ]
  },
  {
   "cell_type": "markdown",
   "metadata": {},
   "source": [
    "#### import mat data"
   ]
  },
  {
   "cell_type": "code",
   "execution_count": 2,
   "metadata": {},
   "outputs": [],
   "source": [
    "\n",
    "#loadmat & import 문\n",
    "from scipy import io\n",
    "import matplotlib as mpl\n",
    "import matplotlib.pylab as plt\n",
    "import numpy as np\n",
    "\n",
    "#data load\n",
    "temp = io.loadmat('./data/sb1_eeg')"
   ]
  },
  {
   "cell_type": "markdown",
   "metadata": {},
   "source": [
    "#### Type Check & EEG Data Get"
   ]
  },
  {
   "cell_type": "markdown",
   "metadata": {},
   "source": [
    "> temp의 타입을 체크하고 dict타입이니 key를 확인"
   ]
  },
  {
   "cell_type": "markdown",
   "metadata": {},
   "source": [
    "##### Type Check"
   ]
  },
  {
   "cell_type": "code",
   "execution_count": 3,
   "metadata": {},
   "outputs": [
    {
     "name": "stdout",
     "output_type": "stream",
     "text": [
      "<class 'dict'>\n",
      "dict_keys(['__header__', '__version__', '__globals__', 'eeg'])\n"
     ]
    }
   ],
   "source": [
    "\n",
    "#temp의 타입 확인\n",
    "print(type(temp))\n",
    "#dict 타입이니 key값 출력\n",
    "print(temp.keys())"
   ]
  },
  {
   "cell_type": "markdown",
   "metadata": {},
   "source": [
    "> __header__, __version__, __global__은 python에서 불러오는 도중 생기는 값으로 필요없음.\n",
    "> 목적인 Data를 eeg데이터만을 dat변수에 저장"
   ]
  },
  {
   "cell_type": "markdown",
   "metadata": {},
   "source": [
    "##### "
   ]
  },
  {
   "cell_type": "markdown",
   "metadata": {},
   "source": [
    "##### EEG data Get"
   ]
  },
  {
   "cell_type": "markdown",
   "metadata": {},
   "source": [
    "> data변수는 numpy.ndarray로 확인되고, shape 필드를 통해 형태, data값을 확인"
   ]
  },
  {
   "cell_type": "code",
   "execution_count": 4,
   "metadata": {},
   "outputs": [
    {
     "name": "stdout",
     "output_type": "stream",
     "text": [
      "<class 'numpy.ndarray'>\n",
      "(1, 1)\n",
      "(array([[0, 0, 0, ..., 0, 0, 0]], dtype=uint8), array([[-586588.25 , -587784.75 , -587647.5  , ..., -288545.25 ,\n",
      "        -288388.75 , -289359.5  ],\n",
      "       [8293077.   , 8293056.   , 8293052.   , ..., 8292273.5  ,\n",
      "        8292277.   , 8292280.   ],\n",
      "       [ -79269.75 ,  -80505.   ,  -80313.75 , ...,  -18857.996,\n",
      "         -18767.996,  -19776.746],\n",
      "       ...,\n",
      "       [-494490.5  , -495683.5  , -495491.5  , ..., -254509.75 ,\n",
      "        -254321.5  , -255517.75 ],\n",
      "       [-517539.5  , -518903.   , -518621.75 , ..., -273816.25 ,\n",
      "        -273915.75 , -275170.75 ],\n",
      "       [-539177.25 , -540427.25 , -540305.25 , ..., -272165.5  ,\n",
      "        -271887.75 , -273722.5  ]], dtype=float32), array(['Driving simulation - bad condition'], dtype='<U34'), array([[512]], dtype=uint16))\n"
     ]
    }
   ],
   "source": [
    "data = temp['eeg']\n",
    "#eeg 데이터의 형태확인\n",
    "print(type(data))\n",
    "print(data.shape)\n",
    "print(data[0][0])\n",
    "#필요없어진 데이터 temp 삭제\n",
    "del temp "
   ]
  },
  {
   "cell_type": "markdown",
   "metadata": {},
   "source": [
    "#### Data extract"
   ]
  },
  {
   "cell_type": "markdown",
   "metadata": {},
   "source": [
    "##### event & data로 분리\n",
    "![matlab_data_view](../img/matlab_data_view.png)\n",
    "> data 변수는 위의 매틀랩에 해당하는 부분이 3차원에 있다.\n",
    "\n",
    "> event가 1인경우에 측정을 시작했다는 의미로, 1있는지 확인해야한다."
   ]
  },
  {
   "cell_type": "code",
   "execution_count": 5,
   "metadata": {},
   "outputs": [
    {
     "name": "stdout",
     "output_type": "stream",
     "text": [
      "[0 0 0 ... 0 0 0]\n",
      "(array([1536]),)\n",
      "(68, 923136)\n"
     ]
    }
   ],
   "source": [
    "eeg_event = data[0][0][0][0]\n",
    "eeg_data = data[0][0][1]\n",
    "#eeg_event 출력\n",
    "print(eeg_event)\n",
    "#eeg_event에서 1이 있는지 확인\n",
    "print(np.where(eeg_event==1))\n",
    "#eeg_data가 정확한지 확인\n",
    "print(eeg_data.shape)"
   ]
  },
  {
   "cell_type": "markdown",
   "metadata": {},
   "source": [
    "##### RawEEGData로 분리"
   ]
  },
  {
   "cell_type": "code",
   "execution_count": 6,
   "metadata": {},
   "outputs": [
    {
     "name": "stdout",
     "output_type": "stream",
     "text": [
      "(68, 921600)\n",
      "512\n"
     ]
    }
   ],
   "source": [
    "#eeg.event의 값을 데이터 시작값으로 저장\n",
    "tp_startPt = np.where(eeg_event == 1)[0][0]\n",
    "#eeg.data\n",
    "RawEEGData = eeg_data[:,tp_startPt:]\n",
    "#eeg.srate\n",
    "SR = data[0][0][3][0][0]\n",
    "#값 체크\n",
    "print(RawEEGData.shape)\n",
    "print(SR)"
   ]
  },
  {
   "cell_type": "markdown",
   "metadata": {},
   "source": [
    "#### Data Reconstruction\n",
    "\n",
    "> #RawEEGData를 세면 921600개인데, 이걸 SR로 나누고 그걸 다시 60으로 나누면 총 30분으로 떨어진다."
   ]
  },
  {
   "cell_type": "code",
   "execution_count": 7,
   "metadata": {},
   "outputs": [
    {
     "name": "stdout",
     "output_type": "stream",
     "text": [
      "921600\n",
      "30\n",
      "(68, 921600)\n"
     ]
    }
   ],
   "source": [
    "print(len(RawEEGData[0]))\n",
    "MeasurementTime = int(len(RawEEGData[0])/SR/60)\n",
    "print(MeasurementTime)\n",
    "print(RawEEGData.shape)"
   ]
  },
  {
   "cell_type": "markdown",
   "metadata": {},
   "source": [
    "> ? 질문거리 :   \n",
    ">  860160 : 890880 -> start:End  \n",
    ">  29 -> temp_trial  \n",
    "> 로 출력되는데, 그럼 총 0부터 30까지 총 30번 돌았을 것이다. 그런데 왜 tp_endPT는 최종값인 921600이 되지 않는가?  "
   ]
  },
  {
   "cell_type": "code",
   "execution_count": 8,
   "metadata": {},
   "outputs": [
    {
     "name": "stdout",
     "output_type": "stream",
     "text": [
      "\t (30, 64, 30720) -> ProcessedData shape\n",
      "|------------------------------------------------------------|\n"
     ]
    },
    {
     "ename": "NameError",
     "evalue": "name 'tp_endPt' is not defined",
     "output_type": "error",
     "traceback": [
      "\u001b[0;31m---------------------------------------------------------------------------\u001b[0m",
      "\u001b[0;31mNameError\u001b[0m                                 Traceback (most recent call last)",
      "\u001b[1;32m/home/devmin/Desktop/source/jupyter/research-EEG/src/EEG-Research-Main.ipynb Cell 23'\u001b[0m in \u001b[0;36m<cell line: 4>\u001b[0;34m()\u001b[0m\n\u001b[1;32m      <a href='vscode-notebook-cell://ssh-remote%2Bubuntu/home/devmin/Desktop/source/jupyter/research-EEG/src/EEG-Research-Main.ipynb#ch0000022vscode-remote?line=3'>4</a>\u001b[0m \u001b[39mfor\u001b[39;00m temp_trialNum \u001b[39min\u001b[39;00m \u001b[39mrange\u001b[39m(\u001b[39m0\u001b[39m,MeasurementTime):\n\u001b[1;32m      <a href='vscode-notebook-cell://ssh-remote%2Bubuntu/home/devmin/Desktop/source/jupyter/research-EEG/src/EEG-Research-Main.ipynb#ch0000022vscode-remote?line=4'>5</a>\u001b[0m \n\u001b[1;32m      <a href='vscode-notebook-cell://ssh-remote%2Bubuntu/home/devmin/Desktop/source/jupyter/research-EEG/src/EEG-Research-Main.ipynb#ch0000022vscode-remote?line=5'>6</a>\u001b[0m     \u001b[39m#--------------------------진행사항 체크를 위한 출력------------------------------#\u001b[39;00m\n\u001b[1;32m      <a href='vscode-notebook-cell://ssh-remote%2Bubuntu/home/devmin/Desktop/source/jupyter/research-EEG/src/EEG-Research-Main.ipynb#ch0000022vscode-remote?line=6'>7</a>\u001b[0m     \u001b[39mprint\u001b[39m(\u001b[39m\"\u001b[39m\u001b[39m|\u001b[39m\u001b[39m\"\u001b[39m\u001b[39m+\u001b[39m\u001b[39m\"\u001b[39m\u001b[39m-\u001b[39m\u001b[39m\"\u001b[39m\u001b[39m*\u001b[39m\u001b[39m60\u001b[39m\u001b[39m+\u001b[39m\u001b[39m\"\u001b[39m\u001b[39m|\u001b[39m\u001b[39m\"\u001b[39m)\n\u001b[0;32m----> <a href='vscode-notebook-cell://ssh-remote%2Bubuntu/home/devmin/Desktop/source/jupyter/research-EEG/src/EEG-Research-Main.ipynb#ch0000022vscode-remote?line=7'>8</a>\u001b[0m     \u001b[39mprint\u001b[39m(\u001b[39m\"\u001b[39m\u001b[39m|\u001b[39m\u001b[39m\"\u001b[39m\u001b[39m+\u001b[39m\u001b[39m\"\u001b[39m\u001b[39m\\t\u001b[39;00m\u001b[39m\"\u001b[39m,tp_startPt,\u001b[39m\"\u001b[39m\u001b[39m:\u001b[39m\u001b[39m\"\u001b[39m,tp_endPt,\u001b[39m\"\u001b[39m\u001b[39m-> start:End\u001b[39m\u001b[39m\"\u001b[39m)\n\u001b[1;32m      <a href='vscode-notebook-cell://ssh-remote%2Bubuntu/home/devmin/Desktop/source/jupyter/research-EEG/src/EEG-Research-Main.ipynb#ch0000022vscode-remote?line=8'>9</a>\u001b[0m     \u001b[39mprint\u001b[39m(\u001b[39m\"\u001b[39m\u001b[39m|\u001b[39m\u001b[39m\"\u001b[39m\u001b[39m+\u001b[39m\u001b[39m\"\u001b[39m\u001b[39m\\t\u001b[39;00m\u001b[39m\"\u001b[39m,temp_trialNum,\u001b[39m\"\u001b[39m\u001b[39m-> temp_trial\u001b[39m\u001b[39m\"\u001b[39m)\n\u001b[1;32m     <a href='vscode-notebook-cell://ssh-remote%2Bubuntu/home/devmin/Desktop/source/jupyter/research-EEG/src/EEG-Research-Main.ipynb#ch0000022vscode-remote?line=9'>10</a>\u001b[0m     \u001b[39mprint\u001b[39m(\u001b[39m\"\u001b[39m\u001b[39m|\u001b[39m\u001b[39m\"\u001b[39m\u001b[39m+\u001b[39m\u001b[39m\"\u001b[39m\u001b[39m-\u001b[39m\u001b[39m\"\u001b[39m\u001b[39m*\u001b[39m\u001b[39m60\u001b[39m\u001b[39m+\u001b[39m\u001b[39m\"\u001b[39m\u001b[39m|\u001b[39m\u001b[39m\"\u001b[39m)\n",
      "\u001b[0;31mNameError\u001b[0m: name 'tp_endPt' is not defined"
     ]
    }
   ],
   "source": [
    "#ProcessedData를 zeros를 통해 0으로 채워진 배열로 딱 맞게 생성\n",
    "ProcessedData = np.zeros([30,64,30720])\n",
    "print(\"\\t\",ProcessedData.shape,\"-> ProcessedData shape\")\n",
    "for temp_trialNum in range(0,MeasurementTime):\n",
    "\n",
    "    tp_startPt = temp_trialNum*(SR*60)\n",
    "    tp_endPt = (SR*60) + temp_trialNum*(SR*60)\n",
    "\n",
    "    #--------------------------진행사항 체크를 위한 출력------------------------------#\n",
    "    print(\"|\"+\"-\"*60+\"|\")\n",
    "    print(\"|\"+\"\\t\",tp_startPt,\":\",tp_endPt,\"-> start:End\")\n",
    "    print(\"|\"+\"\\t\",temp_trialNum,\"-> temp_trial\")\n",
    "    print(\"|\"+\"-\"*60+\"|\")\n",
    "    #----------------------------------------------------------------------------#\n",
    "    \n",
    "        \n",
    "    ProcessedData[temp_trialNum, :, :] = RawEEGData[:64, tp_startPt:tp_endPt]\n",
    "    print(ProcessedData[temp_trialNum])"
   ]
  },
  {
   "cell_type": "markdown",
   "metadata": {},
   "source": [
    "#### matlab으로 생성한 reconstruction.mat 파일과 비교하기"
   ]
  },
  {
   "cell_type": "code",
   "execution_count": null,
   "metadata": {},
   "outputs": [
    {
     "name": "stdout",
     "output_type": "stream",
     "text": [
      "(30, 64, 30720)\n",
      "(30, 64, 30720)\n",
      "True\n",
      "117888.5\n",
      "117888.5\n"
     ]
    }
   ],
   "source": [
    "temp = io.loadmat('./data/reconstruction.mat')\n",
    "print(temp[\"ProcessedData\"].shape)\n",
    "reconstruction_data = temp[\"ProcessedData\"]\n",
    "print(ProcessedData.shape)\n",
    "\n",
    "#두 변수가 같은지 비교하는 matrix 비교 연산\n",
    "print(np.array_equal(ProcessedData,reconstruction_data))\n",
    "\n",
    "#최최최종값이 같은가?\n",
    "print(ProcessedData[-1][-1][-1])\n",
    "print(reconstruction_data[-1][-1][-1])"
   ]
  }
 ],
 "metadata": {
  "interpreter": {
   "hash": "5b9debec27d59bb0b3e8618ed4d280d94af2b4287e391d0f0ad006d7d41cfb7e"
  },
  "kernelspec": {
   "display_name": "Python 3.9.12 ('EEG')",
   "language": "python",
   "name": "python3"
  },
  "language_info": {
   "codemirror_mode": {
    "name": "ipython",
    "version": 3
   },
   "file_extension": ".py",
   "mimetype": "text/x-python",
   "name": "python",
   "nbconvert_exporter": "python",
   "pygments_lexer": "ipython3",
   "version": "3.9.12"
  },
  "orig_nbformat": 4
 },
 "nbformat": 4,
 "nbformat_minor": 2
}
