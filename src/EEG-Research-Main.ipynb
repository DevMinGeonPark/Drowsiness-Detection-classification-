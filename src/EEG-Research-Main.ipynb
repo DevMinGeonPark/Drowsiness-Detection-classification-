{
 "cells": [
  {
   "cell_type": "markdown",
   "metadata": {},
   "source": [
    "## Conventions\n",
    "```\n",
    "    Python PEP8 Convention + Google Docstring + 개인적인 Convention  \n",
    "    주석의 첫 단어 사이에는 항상 한칸의 빈칸이 위치해야한다.  \n",
    "    in-line 주석은 두 칸을 띄어야한다.  \n",
    "    꼭 필요한 주석인지에 대해 의구심을 품어야한다.  \n",
    "    Class는 CamelCase\n",
    "    function은 snake_case\n",
    "    들여쓰기는 스페이스 네 칸\n",
    "    [Docstring]\n",
    "        @ content\n",
    "        & values description\n",
    "        $ comment\n",
    "        ~ example\n",
    "        <T> type\n",
    "        - 안쪽에서 사용시 들여쓰기\n",
    "    \n",
    "```"
   ]
  },
  {
   "cell_type": "markdown",
   "metadata": {},
   "source": [
    "## EEG Research Code "
   ]
  },
  {
   "cell_type": "markdown",
   "metadata": {},
   "source": [
    "```python\n",
    "    '''\n",
    "    info: \n",
    "        @ Name: MinGeon Park (Bachelor's 3rd year)\n",
    "        @ Position: undergraduate researcher\n",
    "        @ Affiliation: Dept. of Software, Dongseo University ICaN Lab\n",
    "        @ Email: devmin7985@gmail.com\n",
    "        @ Github: https://github.com/DevMinGeonPark?tab=repositories\n",
    "    '''\n",
    "```"
   ]
  },
  {
   "cell_type": "markdown",
   "metadata": {},
   "source": [
    "### Setup"
   ]
  },
  {
   "cell_type": "code",
   "execution_count": 13,
   "metadata": {},
   "outputs": [
    {
     "name": "stdout",
     "output_type": "stream",
     "text": [
      "/home/devmin/Desktop/source/jupyter/research-EEG\n",
      "None\n"
     ]
    }
   ],
   "source": [
    "'''\n",
    "    @default-path setup\n",
    "'''\n",
    "import os\n",
    "default_path = '/home/devmin/Desktop/source/jupyter/research-EEG'\n",
    "print(default_path)\n",
    "print(os.chdir(default_path))\n",
    "del default_path\n",
    "\n",
    "'''\n",
    "    @imoprt segments\n",
    "'''\n",
    "from scipy import io\n",
    "import numpy as np\n",
    "\n",
    "# 필요시 주석 해제\n",
    "#import matplotlib as mpl\n",
    "#import matplotlib.pylab as plt\n",
    "\n"
   ]
  },
  {
   "cell_type": "markdown",
   "metadata": {},
   "source": [
    "### Data Reconstruction"
   ]
  },
  {
   "cell_type": "code",
   "execution_count": 14,
   "metadata": {},
   "outputs": [],
   "source": [
    "class EEGData:\n",
    "    '''\n",
    "        @ Name : EEGData Object\n",
    "        @ Description : \n",
    "            $ EEG Data를 저장하는 객체, Reconstrucion 처리도 진행.\n",
    "    '''\n",
    "    def __init__(self, label: str, mat_num: int):\n",
    "        '''\n",
    "            @ Name : __init__\n",
    "            & label :\n",
    "                <T> str\n",
    "                ~ sb\n",
    "                ~ sg\n",
    "                $ sg, sb data를 구별하여 사용하기 위한 변수\n",
    "            & mat_num :\n",
    "                <T> int\n",
    "                ~ range(1,12)\n",
    "                $ 1에서부터 11까지 데이터를 받아오기 위한 구별 매개변수\n",
    "        '''\n",
    "        self.label = label\n",
    "        self.mat_num = mat_num\n",
    "        \n",
    "        # data_reconstruction is executed only through init\n",
    "        self.__data_reconstruction()\n",
    "\n",
    "    \n",
    "    def __data_reconstruction(self):\n",
    "        '''\n",
    "            @ Name : __data_reconstruction\n",
    "            @ Description :\n",
    "                -@ Purpose : \n",
    "                    $ create 3-dimensional ndarray = [trials x channels x time-series]\n",
    "                    ~ [30 x 64 x 30720]\n",
    "                -@ loadmat path :\n",
    "                    ~ ./data/EEG/{label}/{label}{mat_num}_eeg\n",
    "                    $ label 변수가 str에서 벗어나지 않게 형식 지정\n",
    "                -@ Values : \n",
    "                    & data[0][0][1] \n",
    "                        <T> ndarray (2-dimension/float32)\n",
    "                        $ It same eeg_data\n",
    "                        $ 68 x unknown\n",
    "                    & data[0][0][0][0]\n",
    "                        <T> ndarray (1-dimension/int)\n",
    "                        $ It same eeg_event\n",
    "                        $ 1 is start event\n",
    "                    & EEG\n",
    "                        <T> ndarray (2-dimension/float32)\n",
    "                        $ eeg_data shape is [68 x unknown] like [channel * measured-data]\n",
    "                        --@ Channels\n",
    "                            ~ EEG is 1 ~ 64\n",
    "                            ~ EOG is 65 ~ 66\n",
    "                            ~ ECG is 67 ~ 68\n",
    "                        $ np.where(data[0][0][0][0] == 1)[0][0] is start event time\n",
    "                    & SR\n",
    "                        <T> int\n",
    "                        $ srate (Called S-rate)\n",
    "                        ~ 512\n",
    "                    & MeasurementTime\n",
    "                        <T> int\n",
    "                        $ Measurement Time\n",
    "                        $ length of EEG[0] normally 921600\n",
    "                        $ normally 30 between 40\n",
    "                        --@ formula\n",
    "                            (len(EEG)/SR)/60\n",
    "                    & ProcessedData\n",
    "                        <T> ndarray (3-dimension/flaot32)\n",
    "                        $ The purpose of the class\n",
    "                        ~ [30 * 64 * 921600]\n",
    "                    \n",
    "                    & tp_startPt\n",
    "                        <T> int\n",
    "                        $ start of index about reconstruction\n",
    "                        --@ formula\n",
    "                            n x (sr x 60)\n",
    "                        ~ 15360\n",
    "                    & tp_endPt\n",
    "                        <T> int\n",
    "                        $ end of index about reconstruction\n",
    "                        --@ formula\n",
    "                            (SR x 60) + n x (SR x 60)\n",
    "                        ~ 15360\n",
    "                        \n",
    "        '''\n",
    "        # Meaningful Values\n",
    "        data = io.loadmat(f'./data/EEG/{str(self.label)}/{str(self.label)}{str(self.mat_num)}_eeg')['eeg']\n",
    "        EEG = data[0][0][1][:64, np.where(data[0][0][0][0] == 1)[0][0]:]\n",
    "        SR = data[0][0][-1][0][0]\n",
    "        MeasurementTime = int((len(EEG[0])/SR)/60)\n",
    "        # Purpose values\n",
    "        ProcessedData = np.zeros([MeasurementTime,64,30720])\n",
    "        \n",
    "        for temp_trialNum in range(0,MeasurementTime):\n",
    "            tp_startPt = temp_trialNum*(SR*60)\n",
    "            tp_endPt = (SR*60) + temp_trialNum*(SR*60)\n",
    "            # reconstrction\n",
    "            ProcessedData[temp_trialNum, :, :] = EEG[:, tp_startPt:tp_endPt]\n",
    "        \n",
    "        # self Values\n",
    "        self.SR = SR\n",
    "        self.ProcessedData = ProcessedData\n",
    "        \n",
    "    # get methods\n",
    "    def get_title(self):\n",
    "        print(f\"현재 데이터 : {self.label}_{self.mat_num}\")\n",
    "    \n",
    "    def get_SR(self):\n",
    "        return self.SR"
   ]
  },
  {
   "cell_type": "code",
   "execution_count": 16,
   "metadata": {},
   "outputs": [
    {
     "name": "stdout",
     "output_type": "stream",
     "text": [
      "dict_keys(['p1', 'p2', 'p3', 'p4', 'p5', 'p6', 'p7', 'p8', 'p9', 'p10', 'p11'])\n"
     ]
    }
   ],
   "source": [
    "\n",
    "'''\n",
    "    $ Data Reconstruction from global scope\n",
    "'''\n",
    "person_dict = {}\n",
    "for mat_num in range(1,12):\n",
    "    sb_data = EEGData('sb',mat_num)\n",
    "    sg_data = EEGData('sg',mat_num)\n",
    "\n",
    "    if len(sb_data.ProcessedData) < len(sg_data.ProcessedData): #  like 32\n",
    "        trials = len(sb_data.ProcessedData)\n",
    "    else:\n",
    "        trials = len(sg_data.ProcessedData)\n",
    "    \n",
    "    restructured_data = np.zeros([trials*2,64,30720])\n",
    "\n",
    "    restructured_data[:trials,:,:] = sb_data.ProcessedData[:trials,:,:]\n",
    "    restructured_data[trials:,:,:] = sg_data.ProcessedData[:trials,:,:]\n",
    "\n",
    "    person_dict[f\"p{mat_num}\"] = restructured_data\n",
    "    del sb_data, sg_data, trials, restructured_data\n",
    "\n",
    "print(person_dict.keys())"
   ]
  }
 ],
 "metadata": {
  "interpreter": {
   "hash": "5b9debec27d59bb0b3e8618ed4d280d94af2b4287e391d0f0ad006d7d41cfb7e"
  },
  "kernelspec": {
   "display_name": "Python 3.9.12 ('EEG')",
   "language": "python",
   "name": "python3"
  },
  "language_info": {
   "codemirror_mode": {
    "name": "ipython",
    "version": 3
   },
   "file_extension": ".py",
   "mimetype": "text/x-python",
   "name": "python",
   "nbconvert_exporter": "python",
   "pygments_lexer": "ipython3",
   "version": "3.9.12"
  },
  "orig_nbformat": 4
 },
 "nbformat": 4,
 "nbformat_minor": 2
}
