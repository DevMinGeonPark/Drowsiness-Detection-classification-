{
 "cells": [
  {
   "cell_type": "markdown",
   "metadata": {},
   "source": [
    "## EEG Data Data Segmentation Code"
   ]
  },
  {
   "cell_type": "markdown",
   "metadata": {},
   "source": [
    "#### Default Path Set"
   ]
  },
  {
   "cell_type": "code",
   "execution_count": 1,
   "metadata": {},
   "outputs": [
    {
     "name": "stdout",
     "output_type": "stream",
     "text": [
      "/home/devmin/Desktop/source/jupyter/research-EEG\n",
      "None\n"
     ]
    }
   ],
   "source": [
    "#default_path setting\n",
    "import os\n",
    "default_path = '/home/devmin/Desktop/source/jupyter/research-EEG'\n",
    "print(default_path)\n",
    "print(os.chdir(default_path))\n",
    "del default_path"
   ]
  },
  {
   "cell_type": "markdown",
   "metadata": {},
   "source": [
    "#### Load Data"
   ]
  },
  {
   "cell_type": "code",
   "execution_count": 7,
   "metadata": {},
   "outputs": [],
   "source": [
    "\n",
    "#loadmat & import 문\n",
    "from scipy import io\n",
    "import numpy as np\n",
    "data = io.loadmat('./data/sb1_eeg')\n"
   ]
  },
  {
   "cell_type": "markdown",
   "metadata": {},
   "source": [
    "#### max column Check"
   ]
  },
  {
   "cell_type": "code",
   "execution_count": 8,
   "metadata": {},
   "outputs": [
    {
     "name": "stdout",
     "output_type": "stream",
     "text": [
      "[column max] 923136\n"
     ]
    }
   ],
   "source": [
    "#print column max\n",
    "print(\"[column max] \"+str(len(data['eeg'][0][0][1][0])))"
   ]
  },
  {
   "cell_type": "markdown",
   "metadata": {},
   "source": [
    "### Data Segmentation "
   ]
  },
  {
   "cell_type": "code",
   "execution_count": 9,
   "metadata": {},
   "outputs": [
    {
     "name": "stdout",
     "output_type": "stream",
     "text": [
      "원본 data Length :  68\n",
      "변경 data Length :  68\n",
      "923136\n"
     ]
    }
   ],
   "source": [
    "# data Link 및 확인\n",
    "temp = data['eeg'][0][0][1]\n",
    "print(\"원본 data Length : \", len(data['eeg'][0][0][1]))\n",
    "del data\n",
    "#segmentation for EEG, EOG, ECG \n",
    "EEG = temp[:64]\n",
    "# #len(EEG)\n",
    "EOG = temp[64:66]\n",
    "# #len(EOG)\n",
    "ECG = temp[66:]\n",
    "len(ECG)\n",
    "print(\"변경 data Length : \",len(EEG)+len(EOG)+len(ECG))\n",
    "print(len(EEG[0]))\n",
    "del temp"
   ]
  },
  {
   "cell_type": "markdown",
   "metadata": {},
   "source": [
    "#### Segmentation 변수 지정"
   ]
  },
  {
   "cell_type": "code",
   "execution_count": 11,
   "metadata": {},
   "outputs": [],
   "source": [
    "# 주기, 샘플릿 개수\n",
    "Timesegment = 60 #주기(T)\n",
    "Fs = 15360 #샘플링 개수\n",
    "max_col = 921600"
   ]
  },
  {
   "cell_type": "markdown",
   "metadata": {},
   "source": [
    "#### EEG 데이터를 3차원화"
   ]
  },
  {
   "cell_type": "code",
   "execution_count": 12,
   "metadata": {},
   "outputs": [],
   "source": [
    "# EEG 3차원화\n",
    "# 3-dimentiona array = [trials x channels x time-series]\n",
    "EEG = EEG[:64, np.newaxis, :max_col]\n",
    "EOG = EOG[:2, np.newaxis, :max_col]\n",
    "ECG = ECG[:2, np.newaxis, :max_col]"
   ]
  },
  {
   "cell_type": "markdown",
   "metadata": {},
   "source": [
    "#### Data reshape"
   ]
  },
  {
   "cell_type": "code",
   "execution_count": 13,
   "metadata": {},
   "outputs": [
    {
     "name": "stdout",
     "output_type": "stream",
     "text": [
      "(64, 1, 921600)\n",
      "(64, 60, 15360)\n",
      "64\n",
      "60\n",
      "15360\n"
     ]
    }
   ],
   "source": [
    "\n",
    "# EEG reshape\n",
    "print(EEG.shape) #형태 확인\n",
    "\n",
    "EEG = EEG.reshape(64, Timesegment, Fs)\n",
    "EOG = EOG.reshape(2, Timesegment, Fs)\n",
    "ECG = ECG.reshape(2, Timesegment, Fs)\n",
    "print(EEG.shape) #형태 확인\n",
    "# print(EEG) #값 출력\n",
    "\n",
    "#Check Value\n",
    "print(len(EEG))\n",
    "print(len(EEG[0]))\n",
    "print(len(EEG[0][0]))"
   ]
  }
 ],
 "metadata": {
  "interpreter": {
   "hash": "5b9debec27d59bb0b3e8618ed4d280d94af2b4287e391d0f0ad006d7d41cfb7e"
  },
  "kernelspec": {
   "display_name": "Python 3.9.12 ('EEG')",
   "language": "python",
   "name": "python3"
  },
  "language_info": {
   "codemirror_mode": {
    "name": "ipython",
    "version": 3
   },
   "file_extension": ".py",
   "mimetype": "text/x-python",
   "name": "python",
   "nbconvert_exporter": "python",
   "pygments_lexer": "ipython3",
   "version": "3.9.12"
  },
  "orig_nbformat": 4
 },
 "nbformat": 4,
 "nbformat_minor": 2
}
