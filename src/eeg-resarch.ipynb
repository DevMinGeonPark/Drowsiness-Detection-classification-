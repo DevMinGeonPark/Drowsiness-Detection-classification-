{
 "cells": [
  {
   "cell_type": "markdown",
   "metadata": {},
   "source": [
    "## 1개의 EEG를 활용한 split 테스트 코드"
   ]
  },
  {
   "cell_type": "code",
   "execution_count": 5,
   "metadata": {},
   "outputs": [
    {
     "name": "stdout",
     "output_type": "stream",
     "text": [
      "<built-in function chdir>\n"
     ]
    }
   ],
   "source": [
    "#default_path setting\n",
    "import os\n",
    "default_path = '/home/devmin/Desktop/source/jupyter/research-EEG'\n",
    "print(default_path)\n",
    "print(os.chdir(default_path))\n",
    "del default_path"
   ]
  },
  {
   "cell_type": "code",
   "execution_count": 12,
   "metadata": {},
   "outputs": [],
   "source": [
    "\n",
    "#loadmat & import 문\n",
    "from scipy import io\n",
    "import numpy as np\n",
    "data = io.loadmat('./data/sb1_eeg')\n"
   ]
  },
  {
   "cell_type": "code",
   "execution_count": 14,
   "metadata": {},
   "outputs": [
    {
     "name": "stdout",
     "output_type": "stream",
     "text": [
      "[collum max] 923136\n"
     ]
    }
   ],
   "source": [
    "#create EEG_set\n",
    "EEG_set = data['eeg'][0][0][1][0] # 마지막 원소가 변경되면 새로운 내용\n",
    "print(\"[collum max] \"+str(len(EEG_set)))"
   ]
  },
  {
   "cell_type": "code",
   "execution_count": 15,
   "metadata": {},
   "outputs": [
    {
     "name": "stdout",
     "output_type": "stream",
     "text": [
      "68\n",
      "68\n"
     ]
    }
   ],
   "source": [
    "# data Link 및 확인\n",
    "dataLink = data['eeg'][0][0][1];\n",
    "print(len(data['eeg'][0][0][1]))\n",
    "\n",
    "#segmentation for EEG, EOG, ECG \n",
    "EEG = dataLink[:64]\n",
    "#len(EEG)\n",
    "EOG = dataLink[64:66]\n",
    "#len(EOG)\n",
    "ECG = dataLink[66:]\n",
    "#len(ECG)\n",
    "print(len(EEG)+len(EOG)+len(ECG))"
   ]
  },
  {
   "cell_type": "code",
   "execution_count": 26,
   "metadata": {},
   "outputs": [
    {
     "ename": "IndexError",
     "evalue": "invalid index to scalar variable.",
     "output_type": "error",
     "traceback": [
      "\u001b[0;31m---------------------------------------------------------------------------\u001b[0m",
      "\u001b[0;31mIndexError\u001b[0m                                Traceback (most recent call last)",
      "\u001b[1;32m/home/devmin/Desktop/source/jupyter/research-EEG/src/eeg-resarch.ipynb Cell 6'\u001b[0m in \u001b[0;36m<cell line: 1>\u001b[0;34m()\u001b[0m\n\u001b[0;32m----> <a href='vscode-notebook-cell://ssh-remote%2Bubuntu/home/devmin/Desktop/source/jupyter/research-EEG/src/eeg-resarch.ipynb#ch0000008vscode-remote?line=0'>1</a>\u001b[0m a \u001b[39m=\u001b[39m EEG[\u001b[39m0\u001b[39;49m][:\u001b[39m921600\u001b[39;49m]\n\u001b[1;32m      <a href='vscode-notebook-cell://ssh-remote%2Bubuntu/home/devmin/Desktop/source/jupyter/research-EEG/src/eeg-resarch.ipynb#ch0000008vscode-remote?line=1'>2</a>\u001b[0m \u001b[39mprint\u001b[39m(\u001b[39mlen\u001b[39m(a))\n\u001b[1;32m      <a href='vscode-notebook-cell://ssh-remote%2Bubuntu/home/devmin/Desktop/source/jupyter/research-EEG/src/eeg-resarch.ipynb#ch0000008vscode-remote?line=2'>3</a>\u001b[0m \u001b[39mdel\u001b[39;00m a\n",
      "\u001b[0;31mIndexError\u001b[0m: invalid index to scalar variable."
     ]
    }
   ],
   "source": [
    "a = EEG[0][:921600]\n",
    "print(len(a))\n",
    "del a"
   ]
  },
  {
   "cell_type": "code",
   "execution_count": 17,
   "metadata": {},
   "outputs": [
    {
     "name": "stdout",
     "output_type": "stream",
     "text": [
      "i: 1\n",
      "1\n",
      "i: 2\n",
      "15361\n",
      "i: 3\n",
      "30721\n",
      "i: 4\n",
      "46081\n",
      "i: 5\n",
      "61441\n",
      "i: 6\n",
      "76801\n",
      "i: 7\n",
      "92161\n",
      "i: 8\n",
      "107521\n",
      "i: 9\n",
      "122881\n",
      "i: 10\n",
      "138241\n",
      "i: 11\n",
      "153601\n",
      "i: 12\n",
      "168961\n",
      "i: 13\n",
      "184321\n",
      "i: 14\n",
      "199681\n",
      "i: 15\n",
      "215041\n",
      "i: 16\n",
      "230401\n",
      "i: 17\n",
      "245761\n",
      "i: 18\n",
      "261121\n",
      "i: 19\n",
      "276481\n",
      "i: 20\n",
      "291841\n",
      "i: 21\n",
      "307201\n",
      "i: 22\n",
      "322561\n",
      "i: 23\n",
      "337921\n",
      "i: 24\n",
      "353281\n",
      "i: 25\n",
      "368641\n",
      "i: 26\n",
      "384001\n",
      "i: 27\n",
      "399361\n",
      "i: 28\n",
      "414721\n",
      "i: 29\n",
      "430081\n",
      "i: 30\n",
      "445441\n",
      "i: 31\n",
      "460801\n",
      "i: 32\n",
      "476161\n",
      "i: 33\n",
      "491521\n",
      "i: 34\n",
      "506881\n",
      "i: 35\n",
      "522241\n",
      "i: 36\n",
      "537601\n",
      "i: 37\n",
      "552961\n",
      "i: 38\n",
      "568321\n",
      "i: 39\n",
      "583681\n",
      "i: 40\n",
      "599041\n",
      "i: 41\n",
      "614401\n",
      "i: 42\n",
      "629761\n",
      "i: 43\n",
      "645121\n",
      "i: 44\n",
      "660481\n",
      "i: 45\n",
      "675841\n",
      "i: 46\n",
      "691201\n",
      "i: 47\n",
      "706561\n",
      "i: 48\n",
      "721921\n",
      "i: 49\n",
      "737281\n",
      "i: 50\n",
      "752641\n",
      "i: 51\n",
      "768001\n",
      "i: 52\n",
      "783361\n",
      "i: 53\n",
      "798721\n",
      "i: 54\n",
      "814081\n",
      "i: 55\n",
      "829441\n",
      "i: 56\n",
      "844801\n",
      "i: 57\n",
      "860161\n",
      "i: 58\n",
      "875521\n",
      "i: 59\n",
      "890881\n",
      "i: 60\n",
      "906241\n"
     ]
    }
   ],
   "source": [
    "a = np.array([[[]]])\n",
    "a.ndim\n",
    "for i in range(1,61):\n",
    "    print(\"i:\",i)\n",
    "    s = (1+(i-1)*15360)\n",
    "    print(s)"
   ]
  }
 ],
 "metadata": {
  "interpreter": {
   "hash": "5b9debec27d59bb0b3e8618ed4d280d94af2b4287e391d0f0ad006d7d41cfb7e"
  },
  "kernelspec": {
   "display_name": "Python 3.9.12 ('EEG')",
   "language": "python",
   "name": "python3"
  },
  "language_info": {
   "codemirror_mode": {
    "name": "ipython",
    "version": 3
   },
   "file_extension": ".py",
   "mimetype": "text/x-python",
   "name": "python",
   "nbconvert_exporter": "python",
   "pygments_lexer": "ipython3",
   "version": "3.9.12"
  },
  "orig_nbformat": 4
 },
 "nbformat": 4,
 "nbformat_minor": 2
}
