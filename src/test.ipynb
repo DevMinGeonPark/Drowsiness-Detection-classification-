{
 "cells": [
  {
   "cell_type": "markdown",
   "metadata": {},
   "source": [
    "## EEG Data Data Segmentation Code"
   ]
  },
  {
   "cell_type": "markdown",
   "metadata": {},
   "source": [
    "#### Default Path Set"
   ]
  },
  {
   "cell_type": "code",
   "execution_count": 2,
   "metadata": {},
   "outputs": [
    {
     "name": "stdout",
     "output_type": "stream",
     "text": [
      "/home/devmin/Desktop/source/jupyter/research-EEG\n",
      "None\n"
     ]
    }
   ],
   "source": [
    "#default_path setting\n",
    "import os\n",
    "default_path = '/home/devmin/Desktop/source/jupyter/research-EEG'\n",
    "print(default_path)\n",
    "print(os.chdir(default_path))\n",
    "del default_path"
   ]
  },
  {
   "cell_type": "markdown",
   "metadata": {},
   "source": [
    "#### Load Data"
   ]
  },
  {
   "cell_type": "code",
   "execution_count": 3,
   "metadata": {},
   "outputs": [],
   "source": [
    "\n",
    "#loadmat & import 문\n",
    "from scipy import io\n",
    "import numpy as np\n",
    "data = io.loadmat('./data/sb1_eeg')\n"
   ]
  },
  {
   "cell_type": "markdown",
   "metadata": {},
   "source": [
    "#### max column Check"
   ]
  },
  {
   "cell_type": "code",
   "execution_count": 4,
   "metadata": {},
   "outputs": [
    {
     "name": "stdout",
     "output_type": "stream",
     "text": [
      "[column max] 923136\n"
     ]
    }
   ],
   "source": [
    "#print column max\n",
    "print(\"[column max] \"+str(len(data['eeg'][0][0][1][0])))"
   ]
  },
  {
   "cell_type": "markdown",
   "metadata": {},
   "source": [
    "### Data Segmentation "
   ]
  },
  {
   "cell_type": "code",
   "execution_count": 5,
   "metadata": {},
   "outputs": [
    {
     "name": "stdout",
     "output_type": "stream",
     "text": [
      "원본 data Length :  68\n",
      "변경 data Length :  68\n",
      "923136\n"
     ]
    }
   ],
   "source": [
    "# data Link 및 확인\n",
    "temp = data['eeg'][0][0][1]\n",
    "print(\"원본 data Length : \", len(data['eeg'][0][0][1]))\n",
    "del data\n",
    "#segmentation for EEG, EOG, ECG \n",
    "EEG = temp[:64]\n",
    "# #len(EEG)\n",
    "EOG = temp[64:66]\n",
    "# #len(EOG)\n",
    "ECG = temp[66:]\n",
    "len(ECG)\n",
    "print(\"변경 data Length : \",len(EEG)+len(EOG)+len(ECG))\n",
    "print(len(EEG[0]))\n",
    "del temp"
   ]
  },
  {
   "cell_type": "markdown",
   "metadata": {},
   "source": [
    "#### Segmentation 변수 지정"
   ]
  },
  {
   "cell_type": "code",
   "execution_count": 6,
   "metadata": {},
   "outputs": [],
   "source": [
    "# 주기, 샘플릿 개수\n",
    "Timesegment = 60 #주기(T)\n",
    "Fs = 15360 #샘플링 개수\n",
    "max_col = 921600"
   ]
  },
  {
   "cell_type": "markdown",
   "metadata": {},
   "source": [
    "#### EEG 데이터를 3차원화"
   ]
  },
  {
   "cell_type": "code",
   "execution_count": 7,
   "metadata": {},
   "outputs": [],
   "source": [
    "# EEG 3차원화\n",
    "# 3-dimentiona array = [trials x channels x time-series]\n",
    "EEG = EEG[:64, np.newaxis, :max_col]\n",
    "EOG = EOG[:2, np.newaxis, :max_col]\n",
    "ECG = ECG[:2, np.newaxis, :max_col]"
   ]
  },
  {
   "cell_type": "markdown",
   "metadata": {},
   "source": [
    "#### Data reshape"
   ]
  },
  {
   "cell_type": "code",
   "execution_count": 8,
   "metadata": {},
   "outputs": [
    {
     "name": "stdout",
     "output_type": "stream",
     "text": [
      "(64, 1, 921600)\n",
      "(64, 60, 15360)\n",
      "64\n",
      "60\n",
      "15360\n"
     ]
    }
   ],
   "source": [
    "\n",
    "# EEG reshape\n",
    "print(EEG.shape) #형태 확인\n",
    "\n",
    "EEG = EEG.reshape(64, Timesegment, Fs)\n",
    "EOG = EOG.reshape(2, Timesegment, Fs)\n",
    "ECG = ECG.reshape(2, Timesegment, Fs)\n",
    "print(EEG.shape) #형태 확인\n",
    "# print(EEG) #값 출력\n",
    "\n",
    "#Check Value\n",
    "print(len(EEG))\n",
    "print(len(EEG[0]))\n",
    "print(len(EEG[0][0]))"
   ]
  },
  {
   "cell_type": "code",
   "execution_count": 9,
   "metadata": {},
   "outputs": [
    {
     "name": "stdout",
     "output_type": "stream",
     "text": [
      "[[[-586588.25  -587784.75  -587647.5   ... -572858.    -572578.\n",
      "   -572592.25 ]\n",
      "  [-574044.75  -573962.    -573734.5   ... -574284.75  -574705.5\n",
      "   -575729.25 ]\n",
      "  [-575625.    -575341.    -575691.75  ... -569031.25  -568515.75\n",
      "   -568338.5  ]\n",
      "  ...\n",
      "  [-292584.25  -292935.5   -292709.75  ... -291971.5   -292014.75\n",
      "   -291104.75 ]\n",
      "  [-290967.5   -291733.    -290644.5   ... -292767.25  -292522.75\n",
      "   -292342.25 ]\n",
      "  [-292665.    -291661.5   -291326.25  ... -290170.    -289904.75\n",
      "   -291100.75 ]]\n",
      "\n",
      " [[8293077.    8293056.    8293052.    ... 8292988.5   8292997.\n",
      "   8293038.5  ]\n",
      "  [8292992.    8292997.5   8292998.5   ... 8292974.    8293025.\n",
      "   8292985.   ]\n",
      "  [8293004.5   8293002.    8292983.    ... 8292974.    8292981.\n",
      "   8292952.   ]\n",
      "  ...\n",
      "  [8292341.    8292327.    8292307.    ... 8292305.    8292303.\n",
      "   8292310.5  ]\n",
      "  [8292306.    8292297.    8292322.    ... 8292268.5   8292306.\n",
      "   8292301.5  ]\n",
      "  [8292308.    8292315.    8292289.    ... 8292339.5   8292301.\n",
      "   8292291.   ]]\n",
      "\n",
      " [[ -79269.75   -80505.     -80313.75  ...  -73408.25   -73369.5\n",
      "    -73363.   ]\n",
      "  [ -74717.5    -74593.5    -74383.75  ...  -77862.25   -78355.25\n",
      "    -79332.   ]\n",
      "  [ -79241.25   -78897.5    -79246.    ...  -77472.5    -76944.\n",
      "    -76626.25 ]\n",
      "  ...\n",
      "  [ -19259.246  -19567.246  -19267.996 ...  -20367.246  -20399.496\n",
      "    -19441.996]\n",
      "  [ -19287.746  -20099.496  -19011.496 ...  -20672.996  -20411.746\n",
      "    -20240.746]\n",
      "  [ -20511.496  -19514.246  -19154.746 ...  -19355.996  -19137.746\n",
      "    -20327.246]]\n",
      "\n",
      " ...\n",
      "\n",
      " [[ -86659.5    -88074.75   -87666.    ...  -83005.75   -83179.75\n",
      "    -82977.   ]\n",
      "  [ -84362.25   -84212.5    -83987.5   ...  -79254.5    -79582.25\n",
      "    -80476.25 ]\n",
      "  [ -80554.25   -80178.     -80586.5   ...  -76972.5    -76499.5\n",
      "    -76241.25 ]\n",
      "  ...\n",
      "  [  86297.5     85973.75    86446.5   ...   86675.75    86740.75\n",
      "     87610.   ]\n",
      "  [  87835.5     87126.25    87945.5   ...   88063.25    88249.25\n",
      "     88734.5  ]\n",
      "  [  88586.75    89230.      89346.5   ...   91460.75    91763.75\n",
      "     90812.   ]]\n",
      "\n",
      " [[ 248817.25   247490.     247736.5   ...  251744.25   251609.25\n",
      "    251726.75 ]\n",
      "  [ 250361.     250629.     250866.    ...  252962.5    252488.25\n",
      "    251625.   ]\n",
      "  [ 251635.25   252022.75   251675.    ...  254745.5    255356.25\n",
      "    255642.25 ]\n",
      "  ...\n",
      "  [ 323387.75   322957.75   323228.5   ...  321820.5    321861.\n",
      "    322929.   ]\n",
      "  [ 323076.5    322419.25   323262.    ...  322273.5    322515.75\n",
      "    322902.   ]\n",
      "  [ 322814.75   323732.75   323844.    ...  321598.25   321815.\n",
      "    320879.5  ]]\n",
      "\n",
      " [[ -81302.     -82774.5    -82546.5   ...  -75594.5    -75727.\n",
      "    -75577.5  ]\n",
      "  [ -76942.     -76868.     -76578.5   ...  -72819.5    -73191.5\n",
      "    -74047.5  ]\n",
      "  [ -74097.     -73743.5    -74089.    ...  -69458.5    -68919.\n",
      "    -68622.5  ]\n",
      "  ...\n",
      "  [ 111398.5    111023.     111377.5   ...  111623.     111650.\n",
      "    112608.5  ]\n",
      "  [ 112902.5    112202.     112961.    ...  113484.     113589.5\n",
      "    114162.   ]\n",
      "  [ 114057.     114809.5    114894.    ...  117439.5    117877.5\n",
      "    117020.   ]]]\n"
     ]
    }
   ],
   "source": [
    "print(EEG)"
   ]
  },
  {
   "cell_type": "code",
   "execution_count": 10,
   "metadata": {},
   "outputs": [
    {
     "name": "stdout",
     "output_type": "stream",
     "text": [
      "<class 'dict'>\n",
      "(30, 64, 30720)\n",
      "(64, 60, 15360)\n"
     ]
    },
    {
     "data": {
      "text/plain": [
       "False"
      ]
     },
     "execution_count": 10,
     "metadata": {},
     "output_type": "execute_result"
    }
   ],
   "source": [
    "testdata = io.loadmat('./data/reconstruction.mat')\n",
    "print(type(testdata))\n",
    "# print(testdata['ProcessedData'])\n",
    "print(testdata['ProcessedData'].shape)\n",
    "print(EEG.shape)\n",
    "\n",
    "np.array_equal(testdata['ProcessedData'],EEG)"
   ]
  },
  {
   "cell_type": "code",
   "execution_count": null,
   "metadata": {},
   "outputs": [],
   "source": []
  }
 ],
 "metadata": {
  "interpreter": {
   "hash": "5b9debec27d59bb0b3e8618ed4d280d94af2b4287e391d0f0ad006d7d41cfb7e"
  },
  "kernelspec": {
   "display_name": "Python 3.9.12 ('EEG')",
   "language": "python",
   "name": "python3"
  },
  "language_info": {
   "codemirror_mode": {
    "name": "ipython",
    "version": 3
   },
   "file_extension": ".py",
   "mimetype": "text/x-python",
   "name": "python",
   "nbconvert_exporter": "python",
   "pygments_lexer": "ipython3",
   "version": "3.9.12"
  },
  "orig_nbformat": 4
 },
 "nbformat": 4,
 "nbformat_minor": 2
}
